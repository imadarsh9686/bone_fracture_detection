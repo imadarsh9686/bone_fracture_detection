{
  "metadata": {
    "kernelspec": {
      "display_name": "Python 3",
      "name": "python3"
    },
    "language_info": {
      "name": "python",
      "version": "3.10.12",
      "mimetype": "text/x-python",
      "codemirror_mode": {
        "name": "ipython",
        "version": 3
      },
      "pygments_lexer": "ipython3",
      "nbconvert_exporter": "python",
      "file_extension": ".py"
    },
    "kaggle": {
      "accelerator": "nvidiaTeslaT4",
      "dataSources": [
        {
          "sourceId": 7425688,
          "sourceType": "datasetVersion",
          "datasetId": 4320675
        },
        {
          "sourceId": 7426900,
          "sourceType": "datasetVersion",
          "datasetId": 4321564
        }
      ],
      "dockerImageVersionId": 30636,
      "isInternetEnabled": true,
      "language": "python",
      "sourceType": "notebook",
      "isGpuEnabled": true
    },
    "colab": {
      "provenance": [],
      "gpuType": "T4"
    },
    "accelerator": "GPU"
  },
  "nbformat_minor": 0,
  "nbformat": 4,
  "cells": [
    {
      "cell_type": "code",
      "source": [
        "!nvidia-smi"
      ],
      "metadata": {
        "id": "-MQ2t9-jkFA_",
        "outputId": "e6a8805d-7e84-4821-ca74-ffc5434ce0fd",
        "colab": {
          "base_uri": "https://localhost:8080/"
        }
      },
      "execution_count": 2,
      "outputs": [
        {
          "output_type": "stream",
          "name": "stdout",
          "text": [
            "/bin/bash: line 1: nvidia-smi: command not found\n"
          ]
        }
      ]
    },
    {
      "cell_type": "code",
      "source": [
        "# pip uninstall ultralytics\n"
      ],
      "metadata": {
        "_uuid": "8f2839f25d086af736a60e9eeb907d3b93b6e0e5",
        "_cell_guid": "b1076dfc-b9ad-4769-8c92-a6c4dae69d19",
        "execution": {
          "iopub.status.busy": "2024-01-18T06:54:17.704856Z",
          "iopub.execute_input": "2024-01-18T06:54:17.705164Z"
        },
        "trusted": true,
        "id": "XDPOXswhhmw4",
        "outputId": "327e7389-2b4f-42b2-851e-d157e45f2da7"
      },
      "execution_count": null,
      "outputs": [
        {
          "name": "stdout",
          "text": "Found existing installation: ultralytics 8.1.2\nUninstalling ultralytics-8.1.2:\n  Would remove:\n    /opt/conda/bin/ultralytics\n    /opt/conda/bin/yolo\n    /opt/conda/lib/python3.10/site-packages/__editable__.ultralytics-8.1.2.pth\n    /opt/conda/lib/python3.10/site-packages/__editable___ultralytics_8_1_2_finder.py\n    /opt/conda/lib/python3.10/site-packages/ultralytics-8.1.2.dist-info/*\nProceed (Y/n)? ",
          "output_type": "stream"
        }
      ]
    },
    {
      "cell_type": "code",
      "source": [
        "!git clone https://github.com/ultralytics/ultralytics\n",
        "!cd ultralytics\n",
        "!pip install -e ultralytics\n"
      ],
      "metadata": {
        "execution": {
          "iopub.status.busy": "2024-01-18T06:55:44.495868Z",
          "iopub.execute_input": "2024-01-18T06:55:44.496568Z",
          "iopub.status.idle": "2024-01-18T06:56:15.361779Z",
          "shell.execute_reply.started": "2024-01-18T06:55:44.496532Z",
          "shell.execute_reply": "2024-01-18T06:56:15.360754Z"
        },
        "trusted": true,
        "id": "zwrqhu_Whmw7",
        "outputId": "278a9aba-ffc4-40fd-e538-f7b60a457878",
        "colab": {
          "base_uri": "https://localhost:8080/"
        }
      },
      "execution_count": 3,
      "outputs": [
        {
          "output_type": "stream",
          "name": "stdout",
          "text": [
            "Cloning into 'ultralytics'...\n",
            "remote: Enumerating objects: 20926, done.\u001b[K\n",
            "remote: Counting objects: 100% (1356/1356), done.\u001b[K\n",
            "remote: Compressing objects: 100% (899/899), done.\u001b[K\n",
            "remote: Total 20926 (delta 800), reused 795 (delta 441), pack-reused 19570\u001b[K\n",
            "Receiving objects: 100% (20926/20926), 12.39 MiB | 19.25 MiB/s, done.\n",
            "Resolving deltas: 100% (14506/14506), done.\n",
            "Obtaining file:///content/ultralytics\n",
            "  Installing build dependencies ... \u001b[?25l\u001b[?25hdone\n",
            "  Checking if build backend supports build_editable ... \u001b[?25l\u001b[?25hdone\n",
            "  Getting requirements to build editable ... \u001b[?25l\u001b[?25hdone\n",
            "  Preparing editable metadata (pyproject.toml) ... \u001b[?25l\u001b[?25hdone\n",
            "Requirement already satisfied: matplotlib>=3.3.0 in /usr/local/lib/python3.10/dist-packages (from ultralytics==8.1.4) (3.7.1)\n",
            "Requirement already satisfied: numpy>=1.22.2 in /usr/local/lib/python3.10/dist-packages (from ultralytics==8.1.4) (1.23.5)\n",
            "Requirement already satisfied: opencv-python>=4.6.0 in /usr/local/lib/python3.10/dist-packages (from ultralytics==8.1.4) (4.8.0.76)\n",
            "Requirement already satisfied: pillow>=7.1.2 in /usr/local/lib/python3.10/dist-packages (from ultralytics==8.1.4) (9.4.0)\n",
            "Requirement already satisfied: pyyaml>=5.3.1 in /usr/local/lib/python3.10/dist-packages (from ultralytics==8.1.4) (6.0.1)\n",
            "Requirement already satisfied: requests>=2.23.0 in /usr/local/lib/python3.10/dist-packages (from ultralytics==8.1.4) (2.31.0)\n",
            "Requirement already satisfied: scipy>=1.4.1 in /usr/local/lib/python3.10/dist-packages (from ultralytics==8.1.4) (1.11.4)\n",
            "Requirement already satisfied: torch>=1.8.0 in /usr/local/lib/python3.10/dist-packages (from ultralytics==8.1.4) (2.1.0+cu121)\n",
            "Requirement already satisfied: torchvision>=0.9.0 in /usr/local/lib/python3.10/dist-packages (from ultralytics==8.1.4) (0.16.0+cu121)\n",
            "Requirement already satisfied: tqdm>=4.64.0 in /usr/local/lib/python3.10/dist-packages (from ultralytics==8.1.4) (4.66.1)\n",
            "Requirement already satisfied: psutil in /usr/local/lib/python3.10/dist-packages (from ultralytics==8.1.4) (5.9.5)\n",
            "Requirement already satisfied: py-cpuinfo in /usr/local/lib/python3.10/dist-packages (from ultralytics==8.1.4) (9.0.0)\n",
            "Collecting thop>=0.1.1 (from ultralytics==8.1.4)\n",
            "  Downloading thop-0.1.1.post2209072238-py3-none-any.whl (15 kB)\n",
            "Requirement already satisfied: pandas>=1.1.4 in /usr/local/lib/python3.10/dist-packages (from ultralytics==8.1.4) (1.5.3)\n",
            "Requirement already satisfied: seaborn>=0.11.0 in /usr/local/lib/python3.10/dist-packages (from ultralytics==8.1.4) (0.13.1)\n",
            "Requirement already satisfied: contourpy>=1.0.1 in /usr/local/lib/python3.10/dist-packages (from matplotlib>=3.3.0->ultralytics==8.1.4) (1.2.0)\n",
            "Requirement already satisfied: cycler>=0.10 in /usr/local/lib/python3.10/dist-packages (from matplotlib>=3.3.0->ultralytics==8.1.4) (0.12.1)\n",
            "Requirement already satisfied: fonttools>=4.22.0 in /usr/local/lib/python3.10/dist-packages (from matplotlib>=3.3.0->ultralytics==8.1.4) (4.47.2)\n",
            "Requirement already satisfied: kiwisolver>=1.0.1 in /usr/local/lib/python3.10/dist-packages (from matplotlib>=3.3.0->ultralytics==8.1.4) (1.4.5)\n",
            "Requirement already satisfied: packaging>=20.0 in /usr/local/lib/python3.10/dist-packages (from matplotlib>=3.3.0->ultralytics==8.1.4) (23.2)\n",
            "Requirement already satisfied: pyparsing>=2.3.1 in /usr/local/lib/python3.10/dist-packages (from matplotlib>=3.3.0->ultralytics==8.1.4) (3.1.1)\n",
            "Requirement already satisfied: python-dateutil>=2.7 in /usr/local/lib/python3.10/dist-packages (from matplotlib>=3.3.0->ultralytics==8.1.4) (2.8.2)\n",
            "Requirement already satisfied: pytz>=2020.1 in /usr/local/lib/python3.10/dist-packages (from pandas>=1.1.4->ultralytics==8.1.4) (2023.3.post1)\n",
            "Requirement already satisfied: charset-normalizer<4,>=2 in /usr/local/lib/python3.10/dist-packages (from requests>=2.23.0->ultralytics==8.1.4) (3.3.2)\n",
            "Requirement already satisfied: idna<4,>=2.5 in /usr/local/lib/python3.10/dist-packages (from requests>=2.23.0->ultralytics==8.1.4) (3.6)\n",
            "Requirement already satisfied: urllib3<3,>=1.21.1 in /usr/local/lib/python3.10/dist-packages (from requests>=2.23.0->ultralytics==8.1.4) (2.0.7)\n",
            "Requirement already satisfied: certifi>=2017.4.17 in /usr/local/lib/python3.10/dist-packages (from requests>=2.23.0->ultralytics==8.1.4) (2023.11.17)\n",
            "Requirement already satisfied: filelock in /usr/local/lib/python3.10/dist-packages (from torch>=1.8.0->ultralytics==8.1.4) (3.13.1)\n",
            "Requirement already satisfied: typing-extensions in /usr/local/lib/python3.10/dist-packages (from torch>=1.8.0->ultralytics==8.1.4) (4.5.0)\n",
            "Requirement already satisfied: sympy in /usr/local/lib/python3.10/dist-packages (from torch>=1.8.0->ultralytics==8.1.4) (1.12)\n",
            "Requirement already satisfied: networkx in /usr/local/lib/python3.10/dist-packages (from torch>=1.8.0->ultralytics==8.1.4) (3.2.1)\n",
            "Requirement already satisfied: jinja2 in /usr/local/lib/python3.10/dist-packages (from torch>=1.8.0->ultralytics==8.1.4) (3.1.3)\n",
            "Requirement already satisfied: fsspec in /usr/local/lib/python3.10/dist-packages (from torch>=1.8.0->ultralytics==8.1.4) (2023.6.0)\n",
            "Requirement already satisfied: triton==2.1.0 in /usr/local/lib/python3.10/dist-packages (from torch>=1.8.0->ultralytics==8.1.4) (2.1.0)\n",
            "Requirement already satisfied: six>=1.5 in /usr/local/lib/python3.10/dist-packages (from python-dateutil>=2.7->matplotlib>=3.3.0->ultralytics==8.1.4) (1.16.0)\n",
            "Requirement already satisfied: MarkupSafe>=2.0 in /usr/local/lib/python3.10/dist-packages (from jinja2->torch>=1.8.0->ultralytics==8.1.4) (2.1.3)\n",
            "Requirement already satisfied: mpmath>=0.19 in /usr/local/lib/python3.10/dist-packages (from sympy->torch>=1.8.0->ultralytics==8.1.4) (1.3.0)\n",
            "Building wheels for collected packages: ultralytics\n",
            "  Building editable for ultralytics (pyproject.toml) ... \u001b[?25l\u001b[?25hdone\n",
            "  Created wheel for ultralytics: filename=ultralytics-8.1.4-0.editable-py3-none-any.whl size=22614 sha256=bd00eef4a3fa39e13b6d59fbcf9ef5c10fc12e1bcf74688dc7157429532281bc\n",
            "  Stored in directory: /tmp/pip-ephem-wheel-cache-dbqes_cy/wheels/9a/cd/d5/95912172899f8ec640166ff6eef49156b1b00d6b2ade4a3cb1\n",
            "Successfully built ultralytics\n",
            "Installing collected packages: thop, ultralytics\n",
            "Successfully installed thop-0.1.1.post2209072238 ultralytics-8.1.4\n"
          ]
        }
      ]
    },
    {
      "cell_type": "code",
      "source": [
        "!pip install ultralytics==8.1.1"
      ],
      "metadata": {
        "execution": {
          "iopub.status.busy": "2024-01-18T06:56:15.363612Z",
          "iopub.execute_input": "2024-01-18T06:56:15.363919Z",
          "iopub.status.idle": "2024-01-18T06:56:37.322896Z",
          "shell.execute_reply.started": "2024-01-18T06:56:15.363892Z",
          "shell.execute_reply": "2024-01-18T06:56:37.321801Z"
        },
        "trusted": true,
        "id": "ipEj1PxOhmw8",
        "outputId": "42ddc163-966f-4d26-8168-a29217bc2b6d",
        "colab": {
          "base_uri": "https://localhost:8080/"
        }
      },
      "execution_count": 4,
      "outputs": [
        {
          "output_type": "stream",
          "name": "stdout",
          "text": [
            "Collecting ultralytics==8.1.1\n",
            "  Downloading ultralytics-8.1.1-py3-none-any.whl (699 kB)\n",
            "\u001b[2K     \u001b[90m━━━━━━━━━━━━━━━━━━━━━━━━━━━━━━━━━━━━━━━━\u001b[0m \u001b[32m699.8/699.8 kB\u001b[0m \u001b[31m3.5 MB/s\u001b[0m eta \u001b[36m0:00:00\u001b[0m\n",
            "\u001b[?25hRequirement already satisfied: matplotlib>=3.3.0 in /usr/local/lib/python3.10/dist-packages (from ultralytics==8.1.1) (3.7.1)\n",
            "Requirement already satisfied: numpy>=1.22.2 in /usr/local/lib/python3.10/dist-packages (from ultralytics==8.1.1) (1.23.5)\n",
            "Requirement already satisfied: opencv-python>=4.6.0 in /usr/local/lib/python3.10/dist-packages (from ultralytics==8.1.1) (4.8.0.76)\n",
            "Requirement already satisfied: pillow>=7.1.2 in /usr/local/lib/python3.10/dist-packages (from ultralytics==8.1.1) (9.4.0)\n",
            "Requirement already satisfied: pyyaml>=5.3.1 in /usr/local/lib/python3.10/dist-packages (from ultralytics==8.1.1) (6.0.1)\n",
            "Requirement already satisfied: requests>=2.23.0 in /usr/local/lib/python3.10/dist-packages (from ultralytics==8.1.1) (2.31.0)\n",
            "Requirement already satisfied: scipy>=1.4.1 in /usr/local/lib/python3.10/dist-packages (from ultralytics==8.1.1) (1.11.4)\n",
            "Requirement already satisfied: torch>=1.8.0 in /usr/local/lib/python3.10/dist-packages (from ultralytics==8.1.1) (2.1.0+cu121)\n",
            "Requirement already satisfied: torchvision>=0.9.0 in /usr/local/lib/python3.10/dist-packages (from ultralytics==8.1.1) (0.16.0+cu121)\n",
            "Requirement already satisfied: tqdm>=4.64.0 in /usr/local/lib/python3.10/dist-packages (from ultralytics==8.1.1) (4.66.1)\n",
            "Requirement already satisfied: psutil in /usr/local/lib/python3.10/dist-packages (from ultralytics==8.1.1) (5.9.5)\n",
            "Requirement already satisfied: py-cpuinfo in /usr/local/lib/python3.10/dist-packages (from ultralytics==8.1.1) (9.0.0)\n",
            "Requirement already satisfied: thop>=0.1.1 in /usr/local/lib/python3.10/dist-packages (from ultralytics==8.1.1) (0.1.1.post2209072238)\n",
            "Requirement already satisfied: pandas>=1.1.4 in /usr/local/lib/python3.10/dist-packages (from ultralytics==8.1.1) (1.5.3)\n",
            "Requirement already satisfied: seaborn>=0.11.0 in /usr/local/lib/python3.10/dist-packages (from ultralytics==8.1.1) (0.13.1)\n",
            "Collecting hub-sdk>=0.0.2 (from ultralytics==8.1.1)\n",
            "  Downloading hub_sdk-0.0.3-py3-none-any.whl (37 kB)\n",
            "Requirement already satisfied: contourpy>=1.0.1 in /usr/local/lib/python3.10/dist-packages (from matplotlib>=3.3.0->ultralytics==8.1.1) (1.2.0)\n",
            "Requirement already satisfied: cycler>=0.10 in /usr/local/lib/python3.10/dist-packages (from matplotlib>=3.3.0->ultralytics==8.1.1) (0.12.1)\n",
            "Requirement already satisfied: fonttools>=4.22.0 in /usr/local/lib/python3.10/dist-packages (from matplotlib>=3.3.0->ultralytics==8.1.1) (4.47.2)\n",
            "Requirement already satisfied: kiwisolver>=1.0.1 in /usr/local/lib/python3.10/dist-packages (from matplotlib>=3.3.0->ultralytics==8.1.1) (1.4.5)\n",
            "Requirement already satisfied: packaging>=20.0 in /usr/local/lib/python3.10/dist-packages (from matplotlib>=3.3.0->ultralytics==8.1.1) (23.2)\n",
            "Requirement already satisfied: pyparsing>=2.3.1 in /usr/local/lib/python3.10/dist-packages (from matplotlib>=3.3.0->ultralytics==8.1.1) (3.1.1)\n",
            "Requirement already satisfied: python-dateutil>=2.7 in /usr/local/lib/python3.10/dist-packages (from matplotlib>=3.3.0->ultralytics==8.1.1) (2.8.2)\n",
            "Requirement already satisfied: pytz>=2020.1 in /usr/local/lib/python3.10/dist-packages (from pandas>=1.1.4->ultralytics==8.1.1) (2023.3.post1)\n",
            "Requirement already satisfied: charset-normalizer<4,>=2 in /usr/local/lib/python3.10/dist-packages (from requests>=2.23.0->ultralytics==8.1.1) (3.3.2)\n",
            "Requirement already satisfied: idna<4,>=2.5 in /usr/local/lib/python3.10/dist-packages (from requests>=2.23.0->ultralytics==8.1.1) (3.6)\n",
            "Requirement already satisfied: urllib3<3,>=1.21.1 in /usr/local/lib/python3.10/dist-packages (from requests>=2.23.0->ultralytics==8.1.1) (2.0.7)\n",
            "Requirement already satisfied: certifi>=2017.4.17 in /usr/local/lib/python3.10/dist-packages (from requests>=2.23.0->ultralytics==8.1.1) (2023.11.17)\n",
            "Requirement already satisfied: filelock in /usr/local/lib/python3.10/dist-packages (from torch>=1.8.0->ultralytics==8.1.1) (3.13.1)\n",
            "Requirement already satisfied: typing-extensions in /usr/local/lib/python3.10/dist-packages (from torch>=1.8.0->ultralytics==8.1.1) (4.5.0)\n",
            "Requirement already satisfied: sympy in /usr/local/lib/python3.10/dist-packages (from torch>=1.8.0->ultralytics==8.1.1) (1.12)\n",
            "Requirement already satisfied: networkx in /usr/local/lib/python3.10/dist-packages (from torch>=1.8.0->ultralytics==8.1.1) (3.2.1)\n",
            "Requirement already satisfied: jinja2 in /usr/local/lib/python3.10/dist-packages (from torch>=1.8.0->ultralytics==8.1.1) (3.1.3)\n",
            "Requirement already satisfied: fsspec in /usr/local/lib/python3.10/dist-packages (from torch>=1.8.0->ultralytics==8.1.1) (2023.6.0)\n",
            "Requirement already satisfied: triton==2.1.0 in /usr/local/lib/python3.10/dist-packages (from torch>=1.8.0->ultralytics==8.1.1) (2.1.0)\n",
            "Requirement already satisfied: six>=1.5 in /usr/local/lib/python3.10/dist-packages (from python-dateutil>=2.7->matplotlib>=3.3.0->ultralytics==8.1.1) (1.16.0)\n",
            "Requirement already satisfied: MarkupSafe>=2.0 in /usr/local/lib/python3.10/dist-packages (from jinja2->torch>=1.8.0->ultralytics==8.1.1) (2.1.3)\n",
            "Requirement already satisfied: mpmath>=0.19 in /usr/local/lib/python3.10/dist-packages (from sympy->torch>=1.8.0->ultralytics==8.1.1) (1.3.0)\n",
            "Installing collected packages: hub-sdk, ultralytics\n",
            "  Attempting uninstall: ultralytics\n",
            "    Found existing installation: ultralytics 8.1.4\n",
            "    Uninstalling ultralytics-8.1.4:\n",
            "      Successfully uninstalled ultralytics-8.1.4\n",
            "Successfully installed hub-sdk-0.0.3 ultralytics-8.1.1\n"
          ]
        }
      ]
    },
    {
      "cell_type": "code",
      "source": [
        "from google.colab import drive\n",
        "drive.mount('/content/drive')"
      ],
      "metadata": {
        "colab": {
          "base_uri": "https://localhost:8080/"
        },
        "id": "sWJHJ0qsUIDx",
        "outputId": "4458e95d-0c85-40fa-d8fe-ba2446c4033a"
      },
      "execution_count": 5,
      "outputs": [
        {
          "output_type": "stream",
          "name": "stdout",
          "text": [
            "Mounted at /content/drive\n"
          ]
        }
      ]
    },
    {
      "cell_type": "code",
      "source": [
        "%cd /content/drive/MyDrive/Colab Notebooks/YOLO"
      ],
      "metadata": {
        "colab": {
          "base_uri": "https://localhost:8080/"
        },
        "id": "RO97R47hUO5R",
        "outputId": "d55ace3b-0d1d-4fcb-be16-05e94026d81e"
      },
      "execution_count": 6,
      "outputs": [
        {
          "output_type": "stream",
          "name": "stdout",
          "text": [
            "/content/drive/MyDrive/Colab Notebooks/YOLO\n"
          ]
        }
      ]
    },
    {
      "cell_type": "code",
      "source": [
        "from ultralytics import YOLO\n",
        "\n",
        "# model = YOLO(\"yolo\")\n",
        "model = YOLO('yolov8n.pt')"
      ],
      "metadata": {
        "execution": {
          "iopub.status.busy": "2024-01-18T06:56:39.784752Z",
          "iopub.execute_input": "2024-01-18T06:56:39.785708Z",
          "iopub.status.idle": "2024-01-18T06:56:44.693490Z",
          "shell.execute_reply.started": "2024-01-18T06:56:39.785671Z",
          "shell.execute_reply": "2024-01-18T06:56:44.692501Z"
        },
        "trusted": true,
        "id": "Q8cznfDyhmw8",
        "outputId": "649becd6-4091-403d-c1a8-34bea7436d43",
        "colab": {
          "base_uri": "https://localhost:8080/"
        }
      },
      "execution_count": 5,
      "outputs": [
        {
          "output_type": "stream",
          "name": "stdout",
          "text": [
            "Downloading https://github.com/ultralytics/assets/releases/download/v8.1.0/yolov8n.pt to 'yolov8n.pt'...\n"
          ]
        },
        {
          "output_type": "stream",
          "name": "stderr",
          "text": [
            "100%|██████████| 6.23M/6.23M [00:00<00:00, 79.0MB/s]\n"
          ]
        }
      ]
    },
    {
      "cell_type": "code",
      "source": [
        "import os\n",
        "os.environ[\"WANDB_DISABLED\"] = \"true\"\n"
      ],
      "metadata": {
        "execution": {
          "iopub.status.busy": "2024-01-18T06:59:30.175194Z",
          "iopub.execute_input": "2024-01-18T06:59:30.175777Z",
          "iopub.status.idle": "2024-01-18T06:59:30.180272Z",
          "shell.execute_reply.started": "2024-01-18T06:59:30.175744Z",
          "shell.execute_reply": "2024-01-18T06:59:30.179289Z"
        },
        "trusted": true,
        "id": "C074JHQ8hmw8"
      },
      "execution_count": 7,
      "outputs": []
    },
    {
      "cell_type": "code",
      "source": [
        "!ls"
      ],
      "metadata": {
        "colab": {
          "base_uri": "https://localhost:8080/"
        },
        "id": "drpWFyRUWuLj",
        "outputId": "8f79d023-c535-4b63-a158-e73c36abc987"
      },
      "execution_count": 8,
      "outputs": [
        {
          "output_type": "stream",
          "name": "stdout",
          "text": [
            "data  data.yaml  runs  yolov8n.pt  yolov8s.pt\n"
          ]
        }
      ]
    },
    {
      "cell_type": "code",
      "source": [
        "!yolo task=detect mode=train model=yolov8s.pt data=data.yaml epochs=300 imgsz=640"
      ],
      "metadata": {
        "execution": {
          "iopub.status.busy": "2024-01-18T07:00:25.472895Z",
          "iopub.execute_input": "2024-01-18T07:00:25.473892Z",
          "iopub.status.idle": "2024-01-18T09:30:29.384661Z",
          "shell.execute_reply.started": "2024-01-18T07:00:25.473851Z",
          "shell.execute_reply": "2024-01-18T09:30:29.383434Z"
        },
        "trusted": true,
        "id": "_O-N5Xx0hmw9",
        "outputId": "9c597f86-3bc2-41eb-d227-00f93d001561",
        "colab": {
          "base_uri": "https://localhost:8080/"
        }
      },
      "execution_count": null,
      "outputs": [
        {
          "output_type": "stream",
          "name": "stdout",
          "text": [
            "Downloading https://github.com/ultralytics/assets/releases/download/v8.1.0/yolov8s.pt to 'yolov8s.pt'...\n",
            "100% 21.5M/21.5M [00:00<00:00, 127MB/s] \n",
            "New https://pypi.org/project/ultralytics/8.1.4 available 😃 Update with 'pip install -U ultralytics'\n",
            "Ultralytics YOLOv8.1.1 🚀 Python-3.10.12 torch-2.1.0+cu121 CUDA:0 (Tesla T4, 15102MiB)\n",
            "\u001b[34m\u001b[1mengine/trainer: \u001b[0mtask=detect, mode=train, model=yolov8s.pt, data=data.yaml, epochs=300, time=None, patience=50, batch=16, imgsz=640, save=True, save_period=-1, cache=False, device=None, workers=8, project=None, name=train, exist_ok=False, pretrained=True, optimizer=auto, verbose=True, seed=0, deterministic=True, single_cls=False, rect=False, cos_lr=False, close_mosaic=10, resume=False, amp=True, fraction=1.0, profile=False, freeze=None, multi_scale=False, overlap_mask=True, mask_ratio=4, dropout=0.0, val=True, split=val, save_json=False, save_hybrid=False, conf=None, iou=0.7, max_det=300, half=False, dnn=False, plots=True, source=None, vid_stride=1, stream_buffer=False, visualize=False, augment=False, agnostic_nms=False, classes=None, retina_masks=False, embed=None, show=False, save_frames=False, save_txt=False, save_conf=False, save_crop=False, show_labels=True, show_conf=True, show_boxes=True, line_width=None, format=torchscript, keras=False, optimize=False, int8=False, dynamic=False, simplify=False, opset=None, workspace=4, nms=False, lr0=0.01, lrf=0.01, momentum=0.937, weight_decay=0.0005, warmup_epochs=3.0, warmup_momentum=0.8, warmup_bias_lr=0.1, box=7.5, cls=0.5, dfl=1.5, pose=12.0, kobj=1.0, label_smoothing=0.0, nbs=64, hsv_h=0.015, hsv_s=0.7, hsv_v=0.4, degrees=0.0, translate=0.1, scale=0.5, shear=0.0, perspective=0.0, flipud=0.0, fliplr=0.5, mosaic=1.0, mixup=0.0, copy_paste=0.0, auto_augment=randaugment, erasing=0.4, crop_fraction=1.0, cfg=None, tracker=botsort.yaml, save_dir=runs/detect/train\n",
            "Downloading https://ultralytics.com/assets/Arial.ttf to '/root/.config/Ultralytics/Arial.ttf'...\n",
            "100% 755k/755k [00:00<00:00, 16.3MB/s]\n",
            "2024-01-21 23:35:15.442887: E external/local_xla/xla/stream_executor/cuda/cuda_dnn.cc:9261] Unable to register cuDNN factory: Attempting to register factory for plugin cuDNN when one has already been registered\n",
            "2024-01-21 23:35:15.442963: E external/local_xla/xla/stream_executor/cuda/cuda_fft.cc:607] Unable to register cuFFT factory: Attempting to register factory for plugin cuFFT when one has already been registered\n",
            "2024-01-21 23:35:15.444454: E external/local_xla/xla/stream_executor/cuda/cuda_blas.cc:1515] Unable to register cuBLAS factory: Attempting to register factory for plugin cuBLAS when one has already been registered\n",
            "Overriding model.yaml nc=80 with nc=1\n",
            "\n",
            "                   from  n    params  module                                       arguments                     \n",
            "  0                  -1  1       928  ultralytics.nn.modules.conv.Conv             [3, 32, 3, 2]                 \n",
            "  1                  -1  1     18560  ultralytics.nn.modules.conv.Conv             [32, 64, 3, 2]                \n",
            "  2                  -1  1     29056  ultralytics.nn.modules.block.C2f             [64, 64, 1, True]             \n",
            "  3                  -1  1     73984  ultralytics.nn.modules.conv.Conv             [64, 128, 3, 2]               \n",
            "  4                  -1  2    197632  ultralytics.nn.modules.block.C2f             [128, 128, 2, True]           \n",
            "  5                  -1  1    295424  ultralytics.nn.modules.conv.Conv             [128, 256, 3, 2]              \n",
            "  6                  -1  2    788480  ultralytics.nn.modules.block.C2f             [256, 256, 2, True]           \n",
            "  7                  -1  1   1180672  ultralytics.nn.modules.conv.Conv             [256, 512, 3, 2]              \n",
            "  8                  -1  1   1838080  ultralytics.nn.modules.block.C2f             [512, 512, 1, True]           \n",
            "  9                  -1  1    656896  ultralytics.nn.modules.block.SPPF            [512, 512, 5]                 \n",
            " 10                  -1  1         0  torch.nn.modules.upsampling.Upsample         [None, 2, 'nearest']          \n",
            " 11             [-1, 6]  1         0  ultralytics.nn.modules.conv.Concat           [1]                           \n",
            " 12                  -1  1    591360  ultralytics.nn.modules.block.C2f             [768, 256, 1]                 \n",
            " 13                  -1  1         0  torch.nn.modules.upsampling.Upsample         [None, 2, 'nearest']          \n",
            " 14             [-1, 4]  1         0  ultralytics.nn.modules.conv.Concat           [1]                           \n",
            " 15                  -1  1    148224  ultralytics.nn.modules.block.C2f             [384, 128, 1]                 \n",
            " 16                  -1  1    147712  ultralytics.nn.modules.conv.Conv             [128, 128, 3, 2]              \n",
            " 17            [-1, 12]  1         0  ultralytics.nn.modules.conv.Concat           [1]                           \n",
            " 18                  -1  1    493056  ultralytics.nn.modules.block.C2f             [384, 256, 1]                 \n",
            " 19                  -1  1    590336  ultralytics.nn.modules.conv.Conv             [256, 256, 3, 2]              \n",
            " 20             [-1, 9]  1         0  ultralytics.nn.modules.conv.Concat           [1]                           \n",
            " 21                  -1  1   1969152  ultralytics.nn.modules.block.C2f             [768, 512, 1]                 \n",
            " 22        [15, 18, 21]  1   2116435  ultralytics.nn.modules.head.Detect           [1, [128, 256, 512]]          \n",
            "Model summary: 225 layers, 11135987 parameters, 11135971 gradients, 28.6 GFLOPs\n",
            "\n",
            "Transferred 349/355 items from pretrained weights\n",
            "\u001b[34m\u001b[1mTensorBoard: \u001b[0mStart with 'tensorboard --logdir runs/detect/train', view at http://localhost:6006/\n",
            "Freezing layer 'model.22.dfl.conv.weight'\n",
            "\u001b[34m\u001b[1mAMP: \u001b[0mrunning Automatic Mixed Precision (AMP) checks with YOLOv8n...\n",
            "Downloading https://github.com/ultralytics/assets/releases/download/v8.1.0/yolov8n.pt to 'yolov8n.pt'...\n",
            "100% 6.23M/6.23M [00:00<00:00, 71.8MB/s]\n",
            "WARNING ⚠️ NMS time limit 0.550s exceeded\n",
            "\u001b[34m\u001b[1mAMP: \u001b[0mchecks passed ✅\n",
            "\u001b[34m\u001b[1mtrain: \u001b[0mScanning /content/drive/MyDrive/Colab Notebooks/YOLO/data/train/labels... 2857 images, 2356 backgrounds, 0 corrupt: 100% 2857/2857 [02:53<00:00, 16.47it/s]\n",
            "\u001b[34m\u001b[1mtrain: \u001b[0mNew cache created: /content/drive/MyDrive/Colab Notebooks/YOLO/data/train/labels.cache\n",
            "\u001b[34m\u001b[1malbumentations: \u001b[0mBlur(p=0.01, blur_limit=(3, 7)), MedianBlur(p=0.01, blur_limit=(3, 7)), ToGray(p=0.01), CLAHE(p=0.01, clip_limit=(1, 4.0), tile_grid_size=(8, 8))\n",
            "\u001b[34m\u001b[1mval: \u001b[0mScanning /content/drive/MyDrive/Colab Notebooks/YOLO/data/eval/labels... 611 images, 504 backgrounds, 0 corrupt: 100% 611/611 [00:32<00:00, 18.62it/s]\n",
            "\u001b[34m\u001b[1mval: \u001b[0mNew cache created: /content/drive/MyDrive/Colab Notebooks/YOLO/data/eval/labels.cache\n",
            "Plotting labels to runs/detect/train/labels.jpg... \n",
            "\u001b[34m\u001b[1moptimizer:\u001b[0m 'optimizer=auto' found, ignoring 'lr0=0.01' and 'momentum=0.937' and determining best 'optimizer', 'lr0' and 'momentum' automatically... \n",
            "\u001b[34m\u001b[1moptimizer:\u001b[0m SGD(lr=0.01, momentum=0.9) with parameter groups 57 weight(decay=0.0), 64 weight(decay=0.0005), 63 bias(decay=0.0)\n",
            "300 epochs...\n",
            "\n",
            "      Epoch    GPU_mem   box_loss   cls_loss   dfl_loss  Instances       Size\n",
            "      1/300      4.06G      2.999      19.19      2.049          2        640: 100% 179/179 [01:35<00:00,  1.88it/s]\n",
            "                 Class     Images  Instances      Box(P          R      mAP50  mAP50-95): 100% 20/20 [00:12<00:00,  1.54it/s]\n",
            "                   all        611        131      0.163     0.0534     0.0369     0.0122\n",
            "\n",
            "      Epoch    GPU_mem   box_loss   cls_loss   dfl_loss  Instances       Size\n",
            "      2/300      4.09G      2.762      4.085       1.82          0        640: 100% 179/179 [01:30<00:00,  1.98it/s]\n",
            "                 Class     Images  Instances      Box(P          R      mAP50  mAP50-95): 100% 20/20 [00:11<00:00,  1.68it/s]\n",
            "                   all        611        131      0.154     0.0305     0.0829     0.0434\n",
            "\n",
            "      Epoch    GPU_mem   box_loss   cls_loss   dfl_loss  Instances       Size\n",
            "      3/300      4.08G       3.02      4.273      1.959          4        640: 100% 179/179 [01:29<00:00,  2.00it/s]\n",
            "                 Class     Images  Instances      Box(P          R      mAP50  mAP50-95): 100% 20/20 [00:12<00:00,  1.64it/s]\n",
            "                   all        611        131     0.0011      0.168   0.000743   0.000187\n",
            "\n",
            "      Epoch    GPU_mem   box_loss   cls_loss   dfl_loss  Instances       Size\n",
            "      4/300      4.09G      3.185      4.368      2.163          2        640: 100% 179/179 [01:30<00:00,  1.98it/s]\n",
            "                 Class     Images  Instances      Box(P          R      mAP50  mAP50-95): 100% 20/20 [00:09<00:00,  2.14it/s]\n",
            "                   all        611        131    0.00346     0.0305    0.00259    0.00142\n",
            "\n",
            "      Epoch    GPU_mem   box_loss   cls_loss   dfl_loss  Instances       Size\n",
            "      5/300      4.08G      3.218       4.39      2.185          0        640: 100% 179/179 [01:29<00:00,  2.01it/s]\n",
            "                 Class     Images  Instances      Box(P          R      mAP50  mAP50-95): 100% 20/20 [00:11<00:00,  1.81it/s]\n",
            "                   all        611        131    0.00346     0.0305    0.00259    0.00142\n",
            "\n",
            "      Epoch    GPU_mem   box_loss   cls_loss   dfl_loss  Instances       Size\n",
            "      6/300       4.1G      3.291      4.271       2.16          0        640: 100% 179/179 [01:28<00:00,  2.02it/s]\n",
            "                 Class     Images  Instances      Box(P          R      mAP50  mAP50-95): 100% 20/20 [00:12<00:00,  1.64it/s]\n",
            "                   all        611        131      0.124     0.0534     0.0238    0.00725\n",
            "\n",
            "      Epoch    GPU_mem   box_loss   cls_loss   dfl_loss  Instances       Size\n",
            "      7/300       4.1G      3.226      4.025      2.102          1        640: 100% 179/179 [01:29<00:00,  2.01it/s]\n",
            "                 Class     Images  Instances      Box(P          R      mAP50  mAP50-95): 100% 20/20 [00:11<00:00,  1.67it/s]\n",
            "                   all        611        131    0.00324      0.412     0.0187    0.00593\n",
            "\n",
            "      Epoch    GPU_mem   box_loss   cls_loss   dfl_loss  Instances       Size\n",
            "      8/300      4.26G      3.217      4.056      2.085          3        640: 100% 179/179 [01:31<00:00,  1.96it/s]\n",
            "                 Class     Images  Instances      Box(P          R      mAP50  mAP50-95): 100% 20/20 [00:10<00:00,  1.89it/s]\n",
            "                   all        611        131      0.102     0.0382     0.0191     0.0074\n",
            "\n",
            "      Epoch    GPU_mem   box_loss   cls_loss   dfl_loss  Instances       Size\n",
            "      9/300      4.26G      3.232      4.101      2.025          7        640: 100% 179/179 [01:30<00:00,  1.98it/s]\n",
            "                 Class     Images  Instances      Box(P          R      mAP50  mAP50-95): 100% 20/20 [00:12<00:00,  1.63it/s]\n",
            "                   all        611        131      0.454     0.0458     0.0644     0.0224\n",
            "\n",
            "      Epoch    GPU_mem   box_loss   cls_loss   dfl_loss  Instances       Size\n",
            "     10/300      4.26G      3.059      3.871      2.064          4        640: 100% 179/179 [01:29<00:00,  2.01it/s]\n",
            "                 Class     Images  Instances      Box(P          R      mAP50  mAP50-95): 100% 20/20 [00:12<00:00,  1.66it/s]\n",
            "                   all        611        131      0.137     0.0739     0.0355     0.0118\n",
            "\n",
            "      Epoch    GPU_mem   box_loss   cls_loss   dfl_loss  Instances       Size\n",
            "     11/300      4.25G      2.976      3.913      1.976          5        640: 100% 179/179 [01:32<00:00,  1.94it/s]\n",
            "                 Class     Images  Instances      Box(P          R      mAP50  mAP50-95): 100% 20/20 [00:11<00:00,  1.71it/s]\n",
            "                   all        611        131    0.00277      0.511      0.076     0.0226\n",
            "\n",
            "      Epoch    GPU_mem   box_loss   cls_loss   dfl_loss  Instances       Size\n",
            "     12/300      4.25G      2.995      3.671      1.967          4        640: 100% 179/179 [01:29<00:00,  2.00it/s]\n",
            "                 Class     Images  Instances      Box(P          R      mAP50  mAP50-95): 100% 20/20 [00:12<00:00,  1.61it/s]\n",
            "                   all        611        131      0.247     0.0476     0.0619     0.0243\n",
            "\n",
            "      Epoch    GPU_mem   box_loss   cls_loss   dfl_loss  Instances       Size\n",
            "     13/300       4.1G      3.016      3.743      1.981          1        640: 100% 179/179 [01:27<00:00,  2.05it/s]\n",
            "                 Class     Images  Instances      Box(P          R      mAP50  mAP50-95): 100% 20/20 [00:12<00:00,  1.58it/s]\n",
            "                   all        611        131      0.271      0.084     0.0808     0.0245\n",
            "\n",
            "      Epoch    GPU_mem   box_loss   cls_loss   dfl_loss  Instances       Size\n",
            "     14/300       4.1G      2.974      3.582       1.99          4        640: 100% 179/179 [01:29<00:00,  2.00it/s]\n",
            "                 Class     Images  Instances      Box(P          R      mAP50  mAP50-95): 100% 20/20 [00:10<00:00,  1.85it/s]\n",
            "                   all        611        131      0.237      0.107      0.067     0.0237\n",
            "\n",
            "      Epoch    GPU_mem   box_loss   cls_loss   dfl_loss  Instances       Size\n",
            "     15/300       4.1G       2.92      3.659      1.955          1        640: 100% 179/179 [01:29<00:00,  1.99it/s]\n",
            "                 Class     Images  Instances      Box(P          R      mAP50  mAP50-95): 100% 20/20 [00:12<00:00,  1.62it/s]\n",
            "                   all        611        131      0.356     0.0305      0.102     0.0336\n",
            "\n",
            "      Epoch    GPU_mem   box_loss   cls_loss   dfl_loss  Instances       Size\n",
            "     16/300      4.09G      2.841        3.5      1.893          3        640: 100% 179/179 [01:29<00:00,  2.01it/s]\n",
            "                 Class     Images  Instances      Box(P          R      mAP50  mAP50-95): 100% 20/20 [00:12<00:00,  1.61it/s]\n",
            "                   all        611        131      0.208       0.16      0.123     0.0386\n",
            "\n",
            "      Epoch    GPU_mem   box_loss   cls_loss   dfl_loss  Instances       Size\n",
            "     17/300      4.08G      2.813      3.482      1.869          0        640: 100% 179/179 [01:29<00:00,  2.00it/s]\n",
            "                 Class     Images  Instances      Box(P          R      mAP50  mAP50-95): 100% 20/20 [00:11<00:00,  1.80it/s]\n",
            "                   all        611        131      0.274       0.16      0.103     0.0339\n",
            "\n",
            "      Epoch    GPU_mem   box_loss   cls_loss   dfl_loss  Instances       Size\n",
            "     18/300       4.1G      2.844       3.41      1.876          5        640: 100% 179/179 [01:30<00:00,  1.98it/s]\n",
            "                 Class     Images  Instances      Box(P          R      mAP50  mAP50-95): 100% 20/20 [00:11<00:00,  1.76it/s]\n",
            "                   all        611        131      0.308      0.143      0.139     0.0573\n",
            "\n",
            "      Epoch    GPU_mem   box_loss   cls_loss   dfl_loss  Instances       Size\n",
            "     19/300      4.09G      2.719      3.362       1.83          2        640: 100% 179/179 [01:28<00:00,  2.01it/s]\n",
            "                 Class     Images  Instances      Box(P          R      mAP50  mAP50-95): 100% 20/20 [00:12<00:00,  1.59it/s]\n",
            "                   all        611        131      0.301     0.0687     0.0862      0.028\n",
            "\n",
            "      Epoch    GPU_mem   box_loss   cls_loss   dfl_loss  Instances       Size\n",
            "     20/300      4.09G      2.803      3.367      1.829          6        640: 100% 179/179 [01:28<00:00,  2.02it/s]\n",
            "                 Class     Images  Instances      Box(P          R      mAP50  mAP50-95): 100% 20/20 [00:12<00:00,  1.63it/s]\n",
            "                   all        611        131      0.263      0.198      0.162     0.0585\n",
            "\n",
            "      Epoch    GPU_mem   box_loss   cls_loss   dfl_loss  Instances       Size\n",
            "     21/300       4.1G      2.767      3.355       1.86          1        640: 100% 179/179 [01:31<00:00,  1.96it/s]\n",
            "                 Class     Images  Instances      Box(P          R      mAP50  mAP50-95): 100% 20/20 [00:10<00:00,  1.98it/s]\n",
            "                   all        611        131      0.263       0.26       0.13     0.0493\n",
            "\n",
            "      Epoch    GPU_mem   box_loss   cls_loss   dfl_loss  Instances       Size\n",
            "     22/300       4.1G      2.814      3.271       1.88          5        640: 100% 179/179 [01:28<00:00,  2.03it/s]\n",
            "                 Class     Images  Instances      Box(P          R      mAP50  mAP50-95): 100% 20/20 [00:12<00:00,  1.65it/s]\n",
            "                   all        611        131      0.202      0.183      0.107     0.0385\n",
            "\n",
            "      Epoch    GPU_mem   box_loss   cls_loss   dfl_loss  Instances       Size\n",
            "     23/300       4.1G      2.727      3.225      1.811          6        640: 100% 179/179 [01:27<00:00,  2.04it/s]\n",
            "                 Class     Images  Instances      Box(P          R      mAP50  mAP50-95): 100% 20/20 [00:12<00:00,  1.64it/s]\n",
            "                   all        611        131      0.237      0.191      0.153     0.0457\n",
            "\n",
            "      Epoch    GPU_mem   box_loss   cls_loss   dfl_loss  Instances       Size\n",
            "     24/300       4.1G      2.706      3.228      1.804          5        640: 100% 179/179 [01:28<00:00,  2.02it/s]\n",
            "                 Class     Images  Instances      Box(P          R      mAP50  mAP50-95): 100% 20/20 [00:11<00:00,  1.70it/s]\n",
            "                   all        611        131      0.347       0.16      0.146     0.0495\n",
            "\n",
            "      Epoch    GPU_mem   box_loss   cls_loss   dfl_loss  Instances       Size\n",
            "     25/300      4.25G      2.784      3.198      1.897          1        640: 100% 179/179 [01:29<00:00,  1.99it/s]\n",
            "                 Class     Images  Instances      Box(P          R      mAP50  mAP50-95): 100% 20/20 [00:10<00:00,  1.96it/s]\n",
            "                   all        611        131      0.286      0.191      0.132     0.0455\n",
            "\n",
            "      Epoch    GPU_mem   box_loss   cls_loss   dfl_loss  Instances       Size\n",
            "     26/300      4.09G      2.592      3.168      1.778          1        640: 100% 179/179 [01:30<00:00,  1.97it/s]\n",
            "                 Class     Images  Instances      Box(P          R      mAP50  mAP50-95): 100% 20/20 [00:12<00:00,  1.60it/s]\n",
            "                   all        611        131      0.115       0.42      0.184     0.0615\n",
            "\n",
            "      Epoch    GPU_mem   box_loss   cls_loss   dfl_loss  Instances       Size\n",
            "     27/300      4.09G      2.734      3.145      1.795          5        640: 100% 179/179 [01:28<00:00,  2.01it/s]\n",
            "                 Class     Images  Instances      Box(P          R      mAP50  mAP50-95): 100% 20/20 [00:12<00:00,  1.61it/s]\n",
            "                   all        611        131      0.318       0.26      0.188     0.0735\n",
            "\n",
            "      Epoch    GPU_mem   box_loss   cls_loss   dfl_loss  Instances       Size\n",
            "     28/300      4.25G       2.69      3.085      1.781          2        640: 100% 179/179 [01:30<00:00,  1.99it/s]\n",
            "                 Class     Images  Instances      Box(P          R      mAP50  mAP50-95): 100% 20/20 [00:10<00:00,  1.86it/s]\n",
            "                   all        611        131      0.418      0.198      0.212      0.083\n",
            "\n",
            "      Epoch    GPU_mem   box_loss   cls_loss   dfl_loss  Instances       Size\n",
            "     29/300       4.1G       2.77      3.154      1.858          4        640: 100% 179/179 [01:30<00:00,  1.98it/s]\n",
            "                 Class     Images  Instances      Box(P          R      mAP50  mAP50-95): 100% 20/20 [00:12<00:00,  1.61it/s]\n",
            "                   all        611        131      0.429      0.195      0.179     0.0677\n",
            "\n",
            "      Epoch    GPU_mem   box_loss   cls_loss   dfl_loss  Instances       Size\n",
            "     30/300      4.11G      2.653      2.974      1.822          5        640: 100% 179/179 [01:28<00:00,  2.01it/s]\n",
            "                 Class     Images  Instances      Box(P          R      mAP50  mAP50-95): 100% 20/20 [00:12<00:00,  1.58it/s]\n",
            "                   all        611        131       0.29      0.214      0.153     0.0525\n",
            "\n",
            "      Epoch    GPU_mem   box_loss   cls_loss   dfl_loss  Instances       Size\n",
            "     31/300      4.09G       2.74       3.08      1.879          2        640: 100% 179/179 [01:31<00:00,  1.97it/s]\n",
            "                 Class     Images  Instances      Box(P          R      mAP50  mAP50-95): 100% 20/20 [00:10<00:00,  1.83it/s]\n",
            "                   all        611        131      0.294       0.26      0.166     0.0589\n",
            "\n",
            "      Epoch    GPU_mem   box_loss   cls_loss   dfl_loss  Instances       Size\n",
            "     32/300       4.1G      2.681      3.001      1.848          5        640: 100% 179/179 [01:29<00:00,  2.00it/s]\n",
            "                 Class     Images  Instances      Box(P          R      mAP50  mAP50-95): 100% 20/20 [00:12<00:00,  1.65it/s]\n",
            "                   all        611        131      0.271      0.224      0.195     0.0735\n",
            "\n",
            "      Epoch    GPU_mem   box_loss   cls_loss   dfl_loss  Instances       Size\n",
            "     33/300      4.09G      2.573      3.044      1.749          2        640: 100% 179/179 [01:27<00:00,  2.06it/s]\n",
            "                 Class     Images  Instances      Box(P          R      mAP50  mAP50-95): 100% 20/20 [00:12<00:00,  1.59it/s]\n",
            "                   all        611        131       0.35      0.183      0.211     0.0728\n",
            "\n",
            "      Epoch    GPU_mem   box_loss   cls_loss   dfl_loss  Instances       Size\n",
            "     34/300       4.1G      2.662      2.936       1.81          4        640: 100% 179/179 [01:28<00:00,  2.02it/s]\n",
            "                 Class     Images  Instances      Box(P          R      mAP50  mAP50-95): 100% 20/20 [00:12<00:00,  1.66it/s]\n",
            "                   all        611        131      0.311      0.168      0.136     0.0503\n",
            "\n",
            "      Epoch    GPU_mem   box_loss   cls_loss   dfl_loss  Instances       Size\n",
            "     35/300       4.1G      2.617      2.982      1.773          0        640: 100% 179/179 [01:31<00:00,  1.96it/s]\n",
            "                 Class     Images  Instances      Box(P          R      mAP50  mAP50-95): 100% 20/20 [00:09<00:00,  2.00it/s]\n",
            "                   all        611        131       0.23      0.298      0.142     0.0487\n",
            "\n",
            "      Epoch    GPU_mem   box_loss   cls_loss   dfl_loss  Instances       Size\n",
            "     36/300      4.09G      2.562      2.788      1.718          4        640: 100% 179/179 [01:29<00:00,  1.99it/s]\n",
            "                 Class     Images  Instances      Box(P          R      mAP50  mAP50-95): 100% 20/20 [00:12<00:00,  1.60it/s]\n",
            "                   all        611        131      0.428      0.244      0.216     0.0848\n",
            "\n",
            "      Epoch    GPU_mem   box_loss   cls_loss   dfl_loss  Instances       Size\n",
            "     37/300      4.09G      2.578      2.754      1.744          6        640: 100% 179/179 [01:28<00:00,  2.02it/s]\n",
            "                 Class     Images  Instances      Box(P          R      mAP50  mAP50-95): 100% 20/20 [00:12<00:00,  1.58it/s]\n",
            "                   all        611        131       0.42      0.244       0.22     0.0795\n",
            "\n",
            "      Epoch    GPU_mem   box_loss   cls_loss   dfl_loss  Instances       Size\n",
            "     38/300      4.11G      2.492      2.829      1.746          5        640: 100% 179/179 [01:30<00:00,  1.98it/s]\n",
            "                 Class     Images  Instances      Box(P          R      mAP50  mAP50-95): 100% 20/20 [00:10<00:00,  1.98it/s]\n",
            "                   all        611        131      0.346      0.252      0.224     0.0793\n",
            "\n",
            "      Epoch    GPU_mem   box_loss   cls_loss   dfl_loss  Instances       Size\n",
            "     39/300      4.26G       2.59      2.843      1.774          4        640: 100% 179/179 [01:30<00:00,  1.98it/s]\n",
            "                 Class     Images  Instances      Box(P          R      mAP50  mAP50-95): 100% 20/20 [00:12<00:00,  1.62it/s]\n",
            "                   all        611        131      0.312      0.267      0.205     0.0809\n",
            "\n",
            "      Epoch    GPU_mem   box_loss   cls_loss   dfl_loss  Instances       Size\n",
            "     40/300      4.09G      2.484      2.742      1.742          3        640: 100% 179/179 [01:29<00:00,  2.00it/s]\n",
            "                 Class     Images  Instances      Box(P          R      mAP50  mAP50-95): 100% 20/20 [00:12<00:00,  1.65it/s]\n",
            "                   all        611        131      0.445      0.244      0.209     0.0775\n",
            "\n",
            "      Epoch    GPU_mem   box_loss   cls_loss   dfl_loss  Instances       Size\n",
            "     41/300      4.09G      2.458      2.718      1.688          0        640: 100% 179/179 [01:30<00:00,  1.97it/s]\n",
            "                 Class     Images  Instances      Box(P          R      mAP50  mAP50-95): 100% 20/20 [00:10<00:00,  1.95it/s]\n",
            "                   all        611        131      0.449      0.298      0.267     0.0929\n",
            "\n",
            "      Epoch    GPU_mem   box_loss   cls_loss   dfl_loss  Instances       Size\n",
            "     42/300      4.09G      2.451      2.691      1.673          3        640: 100% 179/179 [01:30<00:00,  1.97it/s]\n",
            "                 Class     Images  Instances      Box(P          R      mAP50  mAP50-95): 100% 20/20 [00:12<00:00,  1.59it/s]\n",
            "                   all        611        131      0.264      0.206      0.183      0.075\n",
            "\n",
            "      Epoch    GPU_mem   box_loss   cls_loss   dfl_loss  Instances       Size\n",
            "     43/300       4.1G      2.448      2.633        1.7          0        640: 100% 179/179 [01:29<00:00,  2.01it/s]\n",
            "                 Class     Images  Instances      Box(P          R      mAP50  mAP50-95): 100% 20/20 [00:12<00:00,  1.61it/s]\n",
            "                   all        611        131      0.315      0.291      0.217     0.0724\n",
            "\n",
            "      Epoch    GPU_mem   box_loss   cls_loss   dfl_loss  Instances       Size\n",
            "     44/300      4.09G      2.452      2.724      1.706          2        640: 100% 179/179 [01:29<00:00,  2.00it/s]\n",
            "                 Class     Images  Instances      Box(P          R      mAP50  mAP50-95): 100% 20/20 [00:10<00:00,  1.85it/s]\n",
            "                   all        611        131      0.359      0.275      0.253     0.0994\n",
            "\n",
            "      Epoch    GPU_mem   box_loss   cls_loss   dfl_loss  Instances       Size\n",
            "     45/300       4.1G      2.448      2.664      1.683          4        640: 100% 179/179 [01:29<00:00,  2.00it/s]\n",
            "                 Class     Images  Instances      Box(P          R      mAP50  mAP50-95): 100% 20/20 [00:11<00:00,  1.68it/s]\n",
            "                   all        611        131      0.381       0.26      0.226     0.0779\n",
            "\n",
            "      Epoch    GPU_mem   box_loss   cls_loss   dfl_loss  Instances       Size\n",
            "     46/300      4.03G      2.402      2.641      1.642          1        640: 100% 179/179 [01:28<00:00,  2.01it/s]\n",
            "                 Class     Images  Instances      Box(P          R      mAP50  mAP50-95): 100% 20/20 [00:12<00:00,  1.59it/s]\n",
            "                   all        611        131       0.41      0.191      0.205     0.0809\n",
            "\n",
            "      Epoch    GPU_mem   box_loss   cls_loss   dfl_loss  Instances       Size\n",
            "     47/300      4.09G      2.435      2.692      1.679          4        640: 100% 179/179 [01:29<00:00,  2.00it/s]\n",
            "                 Class     Images  Instances      Box(P          R      mAP50  mAP50-95): 100% 20/20 [00:11<00:00,  1.68it/s]\n",
            "                   all        611        131      0.407      0.199      0.248     0.0912\n",
            "\n",
            "      Epoch    GPU_mem   box_loss   cls_loss   dfl_loss  Instances       Size\n",
            "     48/300      4.09G       2.41      2.668      1.644          2        640: 100% 179/179 [01:31<00:00,  1.96it/s]\n",
            "                 Class     Images  Instances      Box(P          R      mAP50  mAP50-95): 100% 20/20 [00:11<00:00,  1.79it/s]\n",
            "                   all        611        131      0.317      0.267      0.209     0.0758\n",
            "\n",
            "      Epoch    GPU_mem   box_loss   cls_loss   dfl_loss  Instances       Size\n",
            "     49/300       4.1G      2.461      2.545      1.665          4        640: 100% 179/179 [01:28<00:00,  2.01it/s]\n",
            "                 Class     Images  Instances      Box(P          R      mAP50  mAP50-95): 100% 20/20 [00:12<00:00,  1.59it/s]\n",
            "                   all        611        131      0.324      0.176      0.184     0.0708\n",
            "\n",
            "      Epoch    GPU_mem   box_loss   cls_loss   dfl_loss  Instances       Size\n",
            "     50/300      4.09G      2.431      2.487      1.675          1        640: 100% 179/179 [01:28<00:00,  2.03it/s]\n",
            "                 Class     Images  Instances      Box(P          R      mAP50  mAP50-95): 100% 20/20 [00:12<00:00,  1.59it/s]\n",
            "                   all        611        131      0.394       0.26      0.251     0.0858\n",
            "\n",
            "      Epoch    GPU_mem   box_loss   cls_loss   dfl_loss  Instances       Size\n",
            "     51/300      4.25G      2.406      2.503      1.658          5        640: 100% 179/179 [01:30<00:00,  1.97it/s]\n",
            "                 Class     Images  Instances      Box(P          R      mAP50  mAP50-95): 100% 20/20 [00:10<00:00,  1.97it/s]\n",
            "                   all        611        131      0.353      0.282      0.246     0.0977\n",
            "\n",
            "      Epoch    GPU_mem   box_loss   cls_loss   dfl_loss  Instances       Size\n",
            "     52/300      4.26G      2.418      2.524      1.691         11        640: 100% 179/179 [01:30<00:00,  1.99it/s]\n",
            "                 Class     Images  Instances      Box(P          R      mAP50  mAP50-95): 100% 20/20 [00:12<00:00,  1.64it/s]\n",
            "                   all        611        131      0.386      0.298      0.275      0.107\n",
            "\n",
            "      Epoch    GPU_mem   box_loss   cls_loss   dfl_loss  Instances       Size\n",
            "     53/300      4.26G      2.362      2.519      1.628          3        640: 100% 179/179 [01:28<00:00,  2.02it/s]\n",
            "                 Class     Images  Instances      Box(P          R      mAP50  mAP50-95): 100% 20/20 [00:12<00:00,  1.60it/s]\n",
            "                   all        611        131      0.395      0.289      0.265      0.105\n",
            "\n",
            "      Epoch    GPU_mem   box_loss   cls_loss   dfl_loss  Instances       Size\n",
            "     54/300      4.09G      2.421      2.514       1.67          3        640: 100% 179/179 [01:27<00:00,  2.04it/s]\n",
            "                 Class     Images  Instances      Box(P          R      mAP50  mAP50-95): 100% 20/20 [00:11<00:00,  1.72it/s]\n",
            "                   all        611        131      0.363      0.198      0.178     0.0595\n",
            "\n",
            "      Epoch    GPU_mem   box_loss   cls_loss   dfl_loss  Instances       Size\n",
            "     55/300       4.1G      2.366      2.548      1.643          3        640: 100% 179/179 [01:29<00:00,  1.99it/s]\n",
            "                 Class     Images  Instances      Box(P          R      mAP50  mAP50-95): 100% 20/20 [00:10<00:00,  1.90it/s]\n",
            "                   all        611        131      0.408      0.232      0.273     0.0999\n",
            "\n",
            "      Epoch    GPU_mem   box_loss   cls_loss   dfl_loss  Instances       Size\n",
            "     56/300       4.1G      2.333      2.426       1.62          2        640: 100% 179/179 [01:28<00:00,  2.03it/s]\n",
            "                 Class     Images  Instances      Box(P          R      mAP50  mAP50-95): 100% 20/20 [00:11<00:00,  1.71it/s]\n",
            "                   all        611        131      0.429      0.359       0.32      0.106\n",
            "\n",
            "      Epoch    GPU_mem   box_loss   cls_loss   dfl_loss  Instances       Size\n",
            "     57/300      4.26G      2.338      2.418      1.657          3        640: 100% 179/179 [01:27<00:00,  2.03it/s]\n",
            "                 Class     Images  Instances      Box(P          R      mAP50  mAP50-95): 100% 20/20 [00:12<00:00,  1.60it/s]\n",
            "                   all        611        131      0.442      0.313      0.326      0.118\n",
            "\n",
            "      Epoch    GPU_mem   box_loss   cls_loss   dfl_loss  Instances       Size\n",
            "     58/300      4.26G      2.416      2.498      1.671          6        640: 100% 179/179 [01:28<00:00,  2.03it/s]\n",
            "                 Class     Images  Instances      Box(P          R      mAP50  mAP50-95): 100% 20/20 [00:12<00:00,  1.66it/s]\n",
            "                   all        611        131      0.383       0.26      0.251     0.0959\n",
            "\n",
            "      Epoch    GPU_mem   box_loss   cls_loss   dfl_loss  Instances       Size\n",
            "     59/300       4.1G      2.342      2.436      1.637          2        640: 100% 179/179 [01:30<00:00,  1.99it/s]\n",
            "                 Class     Images  Instances      Box(P          R      mAP50  mAP50-95): 100% 20/20 [00:10<00:00,  1.97it/s]\n",
            "                   all        611        131      0.425      0.282      0.274     0.0985\n",
            "\n",
            "      Epoch    GPU_mem   box_loss   cls_loss   dfl_loss  Instances       Size\n",
            "     60/300       4.1G      2.335      2.342      1.618          7        640: 100% 179/179 [01:32<00:00,  1.94it/s]\n",
            "                 Class     Images  Instances      Box(P          R      mAP50  mAP50-95): 100% 20/20 [00:12<00:00,  1.56it/s]\n",
            "                   all        611        131      0.452      0.275      0.284      0.109\n",
            "\n",
            "      Epoch    GPU_mem   box_loss   cls_loss   dfl_loss  Instances       Size\n",
            "     61/300      4.08G      2.334      2.476      1.596          2        640: 100% 179/179 [01:28<00:00,  2.02it/s]\n",
            "                 Class     Images  Instances      Box(P          R      mAP50  mAP50-95): 100% 20/20 [00:12<00:00,  1.61it/s]\n",
            "                   all        611        131      0.405      0.237      0.242     0.0934\n",
            "\n",
            "      Epoch    GPU_mem   box_loss   cls_loss   dfl_loss  Instances       Size\n",
            "     62/300       4.1G      2.303      2.348      1.572          4        640: 100% 179/179 [01:30<00:00,  1.97it/s]\n",
            "                 Class     Images  Instances      Box(P          R      mAP50  mAP50-95): 100% 20/20 [00:10<00:00,  1.93it/s]\n",
            "                   all        611        131      0.373      0.298       0.27      0.108\n",
            "\n",
            "      Epoch    GPU_mem   box_loss   cls_loss   dfl_loss  Instances       Size\n",
            "     63/300      4.09G      2.334      2.371      1.619          2        640: 100% 179/179 [01:30<00:00,  1.97it/s]\n",
            "                 Class     Images  Instances      Box(P          R      mAP50  mAP50-95): 100% 20/20 [00:11<00:00,  1.68it/s]\n",
            "                   all        611        131      0.452      0.313      0.335      0.124\n",
            "\n",
            "      Epoch    GPU_mem   box_loss   cls_loss   dfl_loss  Instances       Size\n",
            "     64/300      4.09G       2.22       2.27      1.632          0        640: 100% 179/179 [01:28<00:00,  2.02it/s]\n",
            "                 Class     Images  Instances      Box(P          R      mAP50  mAP50-95): 100% 20/20 [00:12<00:00,  1.61it/s]\n",
            "                   all        611        131      0.465      0.305      0.307      0.114\n",
            "\n",
            "      Epoch    GPU_mem   box_loss   cls_loss   dfl_loss  Instances       Size\n",
            "     65/300      4.08G      2.249      2.359      1.575          0        640: 100% 179/179 [01:29<00:00,  1.99it/s]\n",
            "                 Class     Images  Instances      Box(P          R      mAP50  mAP50-95): 100% 20/20 [00:11<00:00,  1.71it/s]\n",
            "                   all        611        131      0.522      0.298      0.326      0.113\n",
            "\n",
            "      Epoch    GPU_mem   box_loss   cls_loss   dfl_loss  Instances       Size\n",
            "     66/300       4.1G      2.283      2.338      1.608          3        640: 100% 179/179 [01:30<00:00,  1.98it/s]\n",
            "                 Class     Images  Instances      Box(P          R      mAP50  mAP50-95): 100% 20/20 [00:11<00:00,  1.82it/s]\n",
            "                   all        611        131      0.483      0.366      0.352      0.133\n",
            "\n",
            "      Epoch    GPU_mem   box_loss   cls_loss   dfl_loss  Instances       Size\n",
            "     67/300      4.09G      2.242      2.308      1.562          3        640: 100% 179/179 [01:28<00:00,  2.02it/s]\n",
            "                 Class     Images  Instances      Box(P          R      mAP50  mAP50-95): 100% 20/20 [00:12<00:00,  1.61it/s]\n",
            "                   all        611        131      0.449      0.312      0.298      0.104\n",
            "\n",
            "      Epoch    GPU_mem   box_loss   cls_loss   dfl_loss  Instances       Size\n",
            "     68/300      4.09G      2.189      2.259      1.579          3        640: 100% 179/179 [01:27<00:00,  2.05it/s]\n",
            "                 Class     Images  Instances      Box(P          R      mAP50  mAP50-95): 100% 20/20 [00:12<00:00,  1.60it/s]\n",
            "                   all        611        131      0.394      0.313      0.293      0.119\n",
            "\n",
            "      Epoch    GPU_mem   box_loss   cls_loss   dfl_loss  Instances       Size\n",
            "     69/300      4.09G      2.293      2.299      1.602          3        640: 100% 179/179 [01:29<00:00,  2.01it/s]\n",
            "                 Class     Images  Instances      Box(P          R      mAP50  mAP50-95): 100% 20/20 [00:11<00:00,  1.81it/s]\n",
            "                   all        611        131      0.629      0.246      0.313      0.123\n",
            "\n",
            "      Epoch    GPU_mem   box_loss   cls_loss   dfl_loss  Instances       Size\n",
            "     70/300       4.1G      2.283      2.347      1.581          2        640: 100% 179/179 [01:30<00:00,  1.99it/s]\n",
            "                 Class     Images  Instances      Box(P          R      mAP50  mAP50-95): 100% 20/20 [00:11<00:00,  1.78it/s]\n",
            "                   all        611        131       0.42      0.327      0.312      0.119\n",
            "\n",
            "      Epoch    GPU_mem   box_loss   cls_loss   dfl_loss  Instances       Size\n",
            "     71/300      4.09G      2.215      2.235      1.579          4        640: 100% 179/179 [01:28<00:00,  2.03it/s]\n",
            "                 Class     Images  Instances      Box(P          R      mAP50  mAP50-95): 100% 20/20 [00:12<00:00,  1.59it/s]\n",
            "                   all        611        131      0.557      0.297      0.325      0.141\n",
            "\n",
            "      Epoch    GPU_mem   box_loss   cls_loss   dfl_loss  Instances       Size\n",
            "     72/300       4.1G      2.251      2.247      1.572          4        640: 100% 179/179 [01:27<00:00,  2.04it/s]\n",
            "                 Class     Images  Instances      Box(P          R      mAP50  mAP50-95): 100% 20/20 [00:11<00:00,  1.68it/s]\n",
            "                   all        611        131      0.478      0.305      0.305      0.124\n",
            "\n",
            "      Epoch    GPU_mem   box_loss   cls_loss   dfl_loss  Instances       Size\n",
            "     73/300      4.09G      2.249      2.159      1.557          2        640: 100% 179/179 [01:28<00:00,  2.03it/s]\n",
            "                 Class     Images  Instances      Box(P          R      mAP50  mAP50-95): 100% 20/20 [00:11<00:00,  1.69it/s]\n",
            "                   all        611        131      0.485      0.328      0.325      0.127\n",
            "\n",
            "      Epoch    GPU_mem   box_loss   cls_loss   dfl_loss  Instances       Size\n",
            "     74/300      4.09G      2.111      2.193      1.511          3        640: 100% 179/179 [01:29<00:00,  1.99it/s]\n",
            "                 Class     Images  Instances      Box(P          R      mAP50  mAP50-95): 100% 20/20 [00:10<00:00,  1.96it/s]\n",
            "                   all        611        131      0.517      0.328      0.343      0.135\n",
            "\n",
            "      Epoch    GPU_mem   box_loss   cls_loss   dfl_loss  Instances       Size\n",
            "     75/300       4.1G      2.156       2.24      1.515          4        640: 100% 179/179 [01:29<00:00,  2.01it/s]\n",
            "                 Class     Images  Instances      Box(P          R      mAP50  mAP50-95): 100% 20/20 [00:11<00:00,  1.72it/s]\n",
            "                   all        611        131       0.43      0.329      0.324      0.114\n",
            "\n",
            "      Epoch    GPU_mem   box_loss   cls_loss   dfl_loss  Instances       Size\n",
            "     76/300      4.08G        2.1      2.241      1.496          1        640: 100% 179/179 [01:27<00:00,  2.05it/s]\n",
            "                 Class     Images  Instances      Box(P          R      mAP50  mAP50-95): 100% 20/20 [00:12<00:00,  1.59it/s]\n",
            "                   all        611        131      0.519      0.336      0.335      0.117\n",
            "\n",
            "      Epoch    GPU_mem   box_loss   cls_loss   dfl_loss  Instances       Size\n",
            "     77/300      4.08G      2.181      2.137      1.537          4        640: 100% 179/179 [01:26<00:00,  2.06it/s]\n",
            "                 Class     Images  Instances      Box(P          R      mAP50  mAP50-95): 100% 20/20 [00:12<00:00,  1.62it/s]\n",
            "                   all        611        131      0.454      0.382      0.363      0.135\n",
            "\n",
            "      Epoch    GPU_mem   box_loss   cls_loss   dfl_loss  Instances       Size\n",
            "     78/300       4.1G      2.153      2.268      1.558          1        640: 100% 179/179 [01:29<00:00,  1.99it/s]\n",
            "                 Class     Images  Instances      Box(P          R      mAP50  mAP50-95): 100% 20/20 [00:10<00:00,  1.83it/s]\n",
            "                   all        611        131      0.422      0.279      0.291      0.124\n",
            "\n",
            "      Epoch    GPU_mem   box_loss   cls_loss   dfl_loss  Instances       Size\n",
            "     79/300      4.09G      2.136      2.164      1.546          6        640: 100% 179/179 [01:30<00:00,  1.98it/s]\n",
            "                 Class     Images  Instances      Box(P          R      mAP50  mAP50-95): 100% 20/20 [00:10<00:00,  1.83it/s]\n",
            "                   all        611        131      0.586      0.275      0.326      0.126\n",
            "\n",
            "      Epoch    GPU_mem   box_loss   cls_loss   dfl_loss  Instances       Size\n",
            "     80/300      4.09G      2.136      2.109      1.557          0        640: 100% 179/179 [01:29<00:00,  2.00it/s]\n",
            "                 Class     Images  Instances      Box(P          R      mAP50  mAP50-95): 100% 20/20 [00:12<00:00,  1.57it/s]\n",
            "                   all        611        131      0.533       0.29      0.339      0.126\n",
            "\n",
            "      Epoch    GPU_mem   box_loss   cls_loss   dfl_loss  Instances       Size\n",
            "     81/300      4.09G      2.175      2.179      1.546          3        640: 100% 179/179 [01:27<00:00,  2.03it/s]\n",
            "                 Class     Images  Instances      Box(P          R      mAP50  mAP50-95): 100% 20/20 [00:12<00:00,  1.58it/s]\n",
            "                   all        611        131      0.615       0.26      0.303      0.111\n",
            "\n",
            "      Epoch    GPU_mem   box_loss   cls_loss   dfl_loss  Instances       Size\n",
            "     82/300      4.11G      2.136      2.107      1.545          5        640: 100% 179/179 [01:30<00:00,  1.97it/s]\n",
            "                 Class     Images  Instances      Box(P          R      mAP50  mAP50-95): 100% 20/20 [00:10<00:00,  1.92it/s]\n",
            "                   all        611        131      0.597       0.29      0.364      0.144\n",
            "\n",
            "      Epoch    GPU_mem   box_loss   cls_loss   dfl_loss  Instances       Size\n",
            "     83/300      4.09G      2.157      2.095      1.522          6        640: 100% 179/179 [01:29<00:00,  2.01it/s]\n",
            "                 Class     Images  Instances      Box(P          R      mAP50  mAP50-95): 100% 20/20 [00:12<00:00,  1.62it/s]\n",
            "                   all        611        131      0.404      0.366      0.308      0.115\n",
            "\n",
            "      Epoch    GPU_mem   box_loss   cls_loss   dfl_loss  Instances       Size\n",
            "     84/300      4.09G      2.147      2.162       1.55          2        640: 100% 179/179 [01:26<00:00,  2.06it/s]\n",
            "                 Class     Images  Instances      Box(P          R      mAP50  mAP50-95): 100% 20/20 [00:12<00:00,  1.62it/s]\n",
            "                   all        611        131      0.479      0.372       0.36      0.144\n",
            "\n",
            "      Epoch    GPU_mem   box_loss   cls_loss   dfl_loss  Instances       Size\n",
            "     85/300      4.08G      2.154      2.029      1.533          5        640: 100% 179/179 [01:27<00:00,  2.05it/s]\n",
            "                 Class     Images  Instances      Box(P          R      mAP50  mAP50-95): 100% 20/20 [00:12<00:00,  1.57it/s]\n",
            "                   all        611        131      0.727       0.29       0.37      0.139\n",
            "\n",
            "      Epoch    GPU_mem   box_loss   cls_loss   dfl_loss  Instances       Size\n",
            "     86/300       4.1G      2.132      2.083      1.573          2        640: 100% 179/179 [01:30<00:00,  1.98it/s]\n",
            "                 Class     Images  Instances      Box(P          R      mAP50  mAP50-95): 100% 20/20 [00:10<00:00,  1.97it/s]\n",
            "                   all        611        131      0.652      0.282      0.355      0.129\n",
            "\n",
            "      Epoch    GPU_mem   box_loss   cls_loss   dfl_loss  Instances       Size\n",
            "     87/300      4.09G      2.093      1.992      1.519          5        640: 100% 179/179 [01:29<00:00,  1.99it/s]\n",
            "                 Class     Images  Instances      Box(P          R      mAP50  mAP50-95): 100% 20/20 [00:12<00:00,  1.65it/s]\n",
            "                   all        611        131      0.539      0.359      0.353      0.135\n",
            "\n",
            "      Epoch    GPU_mem   box_loss   cls_loss   dfl_loss  Instances       Size\n",
            "     88/300       4.1G      2.092      2.027      1.524          2        640: 100% 179/179 [01:27<00:00,  2.04it/s]\n",
            "                 Class     Images  Instances      Box(P          R      mAP50  mAP50-95): 100% 20/20 [00:12<00:00,  1.58it/s]\n",
            "                   all        611        131      0.606      0.405      0.413      0.171\n",
            "\n",
            "      Epoch    GPU_mem   box_loss   cls_loss   dfl_loss  Instances       Size\n",
            "     89/300      4.25G      2.066      1.964      1.471          4        640: 100% 179/179 [01:27<00:00,  2.05it/s]\n",
            "                 Class     Images  Instances      Box(P          R      mAP50  mAP50-95): 100% 20/20 [00:12<00:00,  1.64it/s]\n",
            "                   all        611        131      0.545      0.397       0.38      0.156\n",
            "\n",
            "      Epoch    GPU_mem   box_loss   cls_loss   dfl_loss  Instances       Size\n",
            "     90/300       4.1G      2.018      2.028      1.476          2        640: 100% 179/179 [01:28<00:00,  2.01it/s]\n",
            "                 Class     Images  Instances      Box(P          R      mAP50  mAP50-95): 100% 20/20 [00:10<00:00,  1.82it/s]\n",
            "                   all        611        131      0.625      0.359      0.407      0.165\n",
            "\n",
            "      Epoch    GPU_mem   box_loss   cls_loss   dfl_loss  Instances       Size\n",
            "     91/300      4.09G      2.022      1.974      1.458          0        640: 100% 179/179 [01:28<00:00,  2.02it/s]\n",
            "                 Class     Images  Instances      Box(P          R      mAP50  mAP50-95): 100% 20/20 [00:10<00:00,  1.92it/s]\n",
            "                   all        611        131      0.648      0.321      0.375      0.141\n",
            "\n",
            "      Epoch    GPU_mem   box_loss   cls_loss   dfl_loss  Instances       Size\n",
            "     92/300      4.09G      2.028       1.91      1.483          3        640: 100% 179/179 [01:27<00:00,  2.04it/s]\n",
            "                 Class     Images  Instances      Box(P          R      mAP50  mAP50-95): 100% 20/20 [00:10<00:00,  1.83it/s]\n",
            "                   all        611        131      0.575      0.336      0.376      0.157\n",
            "\n",
            "      Epoch    GPU_mem   box_loss   cls_loss   dfl_loss  Instances       Size\n",
            "     93/300       4.1G      2.154      2.008      1.532          4        640: 100% 179/179 [01:27<00:00,  2.05it/s]\n",
            "                 Class     Images  Instances      Box(P          R      mAP50  mAP50-95): 100% 20/20 [00:12<00:00,  1.59it/s]\n",
            "                   all        611        131      0.492      0.359      0.342      0.134\n",
            "\n",
            "      Epoch    GPU_mem   box_loss   cls_loss   dfl_loss  Instances       Size\n",
            "     94/300      4.27G      2.136      1.935      1.515          7        640: 100% 179/179 [01:27<00:00,  2.06it/s]\n",
            "                 Class     Images  Instances      Box(P          R      mAP50  mAP50-95): 100% 20/20 [00:11<00:00,  1.67it/s]\n",
            "                   all        611        131      0.564      0.321      0.359      0.134\n",
            "\n",
            "      Epoch    GPU_mem   box_loss   cls_loss   dfl_loss  Instances       Size\n",
            "     95/300      4.25G      2.029      1.983      1.476          3        640: 100% 179/179 [01:26<00:00,  2.07it/s]\n",
            "                 Class     Images  Instances      Box(P          R      mAP50  mAP50-95): 100% 20/20 [00:12<00:00,  1.65it/s]\n",
            "                   all        611        131      0.544      0.374      0.391      0.153\n",
            "\n",
            "      Epoch    GPU_mem   box_loss   cls_loss   dfl_loss  Instances       Size\n",
            "     96/300      4.26G      2.086      2.055      1.493          4        640: 100% 179/179 [01:26<00:00,  2.07it/s]\n",
            "                 Class     Images  Instances      Box(P          R      mAP50  mAP50-95): 100% 20/20 [00:11<00:00,  1.69it/s]\n",
            "                   all        611        131      0.582      0.298      0.353      0.144\n",
            "\n",
            "      Epoch    GPU_mem   box_loss   cls_loss   dfl_loss  Instances       Size\n",
            "     97/300      4.24G      2.073      1.902      1.456          0        640: 100% 179/179 [01:29<00:00,  2.00it/s]\n",
            "                 Class     Images  Instances      Box(P          R      mAP50  mAP50-95): 100% 20/20 [00:10<00:00,  1.99it/s]\n",
            "                   all        611        131      0.599      0.308      0.369      0.162\n",
            "\n",
            "      Epoch    GPU_mem   box_loss   cls_loss   dfl_loss  Instances       Size\n",
            "     98/300      4.11G      2.072      2.009      1.514          4        640: 100% 179/179 [01:28<00:00,  2.02it/s]\n",
            "                 Class     Images  Instances      Box(P          R      mAP50  mAP50-95): 100% 20/20 [00:11<00:00,  1.80it/s]\n",
            "                   all        611        131      0.622      0.351      0.382      0.159\n",
            "\n",
            "      Epoch    GPU_mem   box_loss   cls_loss   dfl_loss  Instances       Size\n",
            "     99/300       4.1G      2.009      1.849      1.507          2        640: 100% 179/179 [01:27<00:00,  2.05it/s]\n",
            "                 Class     Images  Instances      Box(P          R      mAP50  mAP50-95): 100% 20/20 [00:11<00:00,  1.67it/s]\n",
            "                   all        611        131      0.636      0.328      0.389      0.158\n",
            "\n",
            "      Epoch    GPU_mem   box_loss   cls_loss   dfl_loss  Instances       Size\n",
            "    100/300      4.09G      1.948      1.901      1.428          5        640: 100% 179/179 [01:26<00:00,  2.06it/s]\n",
            "                 Class     Images  Instances      Box(P          R      mAP50  mAP50-95): 100% 20/20 [00:12<00:00,  1.62it/s]\n",
            "                   all        611        131      0.596      0.351      0.398      0.155\n",
            "\n",
            "      Epoch    GPU_mem   box_loss   cls_loss   dfl_loss  Instances       Size\n",
            "    101/300      4.09G      1.949      1.771      1.456          2        640: 100% 179/179 [01:27<00:00,  2.05it/s]\n",
            "                 Class     Images  Instances      Box(P          R      mAP50  mAP50-95): 100% 20/20 [00:12<00:00,  1.58it/s]\n",
            "                   all        611        131       0.51      0.405      0.366      0.153\n",
            "\n",
            "      Epoch    GPU_mem   box_loss   cls_loss   dfl_loss  Instances       Size\n",
            "    102/300      4.09G      1.971      1.798      1.407          3        640: 100% 179/179 [01:28<00:00,  2.01it/s]\n",
            "                 Class     Images  Instances      Box(P          R      mAP50  mAP50-95): 100% 20/20 [00:10<00:00,  1.98it/s]\n",
            "                   all        611        131      0.665      0.344      0.369      0.151\n",
            "\n",
            "      Epoch    GPU_mem   box_loss   cls_loss   dfl_loss  Instances       Size\n",
            "    103/300       4.1G      1.969      1.923      1.441          1        640: 100% 179/179 [01:28<00:00,  2.01it/s]\n",
            "                 Class     Images  Instances      Box(P          R      mAP50  mAP50-95): 100% 20/20 [00:11<00:00,  1.77it/s]\n",
            "                   all        611        131      0.587      0.412      0.411      0.162\n",
            "\n",
            "      Epoch    GPU_mem   box_loss   cls_loss   dfl_loss  Instances       Size\n",
            "    104/300       4.1G      2.031      1.901      1.483          4        640: 100% 179/179 [01:28<00:00,  2.03it/s]\n",
            "                 Class     Images  Instances      Box(P          R      mAP50  mAP50-95): 100% 20/20 [00:12<00:00,  1.62it/s]\n",
            "                   all        611        131      0.485      0.344       0.38      0.162\n",
            "\n",
            "      Epoch    GPU_mem   box_loss   cls_loss   dfl_loss  Instances       Size\n",
            "    105/300      4.25G      1.979       1.83      1.446         12        640: 100% 179/179 [01:27<00:00,  2.04it/s]\n",
            "                 Class     Images  Instances      Box(P          R      mAP50  mAP50-95): 100% 20/20 [00:12<00:00,  1.65it/s]\n",
            "                   all        611        131      0.491      0.382      0.402      0.166\n",
            "\n",
            "      Epoch    GPU_mem   box_loss   cls_loss   dfl_loss  Instances       Size\n",
            "    106/300      4.25G      1.981      1.796       1.44          0        640: 100% 179/179 [01:30<00:00,  1.98it/s]\n",
            "                 Class     Images  Instances      Box(P          R      mAP50  mAP50-95): 100% 20/20 [00:10<00:00,  1.95it/s]\n",
            "                   all        611        131      0.483      0.435      0.387      0.162\n",
            "\n",
            "      Epoch    GPU_mem   box_loss   cls_loss   dfl_loss  Instances       Size\n",
            "    107/300      4.25G      1.958      1.781      1.457          5        640: 100% 179/179 [01:29<00:00,  2.00it/s]\n",
            "                 Class     Images  Instances      Box(P          R      mAP50  mAP50-95): 100% 20/20 [00:11<00:00,  1.71it/s]\n",
            "                   all        611        131      0.549      0.427      0.408      0.165\n",
            "\n",
            "      Epoch    GPU_mem   box_loss   cls_loss   dfl_loss  Instances       Size\n",
            "    108/300      4.02G      1.938      1.808       1.41          0        640: 100% 179/179 [01:27<00:00,  2.04it/s]\n",
            "                 Class     Images  Instances      Box(P          R      mAP50  mAP50-95): 100% 20/20 [00:12<00:00,  1.64it/s]\n",
            "                   all        611        131      0.538      0.427      0.458      0.179\n",
            "\n",
            "      Epoch    GPU_mem   box_loss   cls_loss   dfl_loss  Instances       Size\n",
            "    109/300      4.01G      1.872      1.756      1.397          2        640: 100% 179/179 [01:27<00:00,  2.04it/s]\n",
            "                 Class     Images  Instances      Box(P          R      mAP50  mAP50-95): 100% 20/20 [00:12<00:00,  1.66it/s]\n",
            "                   all        611        131       0.54      0.382      0.381      0.146\n",
            "\n",
            "      Epoch    GPU_mem   box_loss   cls_loss   dfl_loss  Instances       Size\n",
            "    110/300      4.09G      1.924      1.736      1.434          2        640: 100% 179/179 [01:29<00:00,  2.01it/s]\n",
            "                 Class     Images  Instances      Box(P          R      mAP50  mAP50-95): 100% 20/20 [00:10<00:00,  1.86it/s]\n",
            "                   all        611        131      0.615      0.351      0.396      0.162\n",
            "\n",
            "      Epoch    GPU_mem   box_loss   cls_loss   dfl_loss  Instances       Size\n",
            "    111/300      4.09G      2.032      1.852      1.458          3        640: 100% 179/179 [01:30<00:00,  1.98it/s]\n",
            "                 Class     Images  Instances      Box(P          R      mAP50  mAP50-95): 100% 20/20 [00:10<00:00,  1.88it/s]\n",
            "                   all        611        131      0.518      0.412      0.405      0.156\n",
            "\n",
            "      Epoch    GPU_mem   box_loss   cls_loss   dfl_loss  Instances       Size\n",
            "    112/300      4.25G       1.97      1.778      1.423          2        640: 100% 179/179 [01:28<00:00,  2.02it/s]\n",
            "                 Class     Images  Instances      Box(P          R      mAP50  mAP50-95): 100% 20/20 [00:12<00:00,  1.62it/s]\n",
            "                   all        611        131      0.496      0.351      0.388      0.155\n",
            "\n",
            "      Epoch    GPU_mem   box_loss   cls_loss   dfl_loss  Instances       Size\n",
            "    113/300       4.1G      1.907      1.682      1.408          1        640: 100% 179/179 [01:27<00:00,  2.06it/s]\n",
            "                 Class     Images  Instances      Box(P          R      mAP50  mAP50-95): 100% 20/20 [00:12<00:00,  1.59it/s]\n",
            "                   all        611        131      0.611      0.328      0.401      0.149\n",
            "\n",
            "      Epoch    GPU_mem   box_loss   cls_loss   dfl_loss  Instances       Size\n",
            "    114/300      4.09G      1.927      1.722      1.422          2        640: 100% 179/179 [01:27<00:00,  2.05it/s]\n",
            "                 Class     Images  Instances      Box(P          R      mAP50  mAP50-95): 100% 20/20 [00:12<00:00,  1.62it/s]\n",
            "                   all        611        131      0.545      0.344      0.396      0.152\n",
            "\n",
            "      Epoch    GPU_mem   box_loss   cls_loss   dfl_loss  Instances       Size\n",
            "    115/300       4.1G      1.906      1.692       1.41          4        640: 100% 179/179 [01:29<00:00,  2.01it/s]\n",
            "                 Class     Images  Instances      Box(P          R      mAP50  mAP50-95): 100% 20/20 [00:10<00:00,  1.95it/s]\n",
            "                   all        611        131      0.599      0.351      0.417      0.166\n",
            "\n",
            "      Epoch    GPU_mem   box_loss   cls_loss   dfl_loss  Instances       Size\n",
            "    116/300      4.26G      1.877      1.729      1.384          4        640: 100% 179/179 [01:29<00:00,  2.00it/s]\n",
            "                 Class     Images  Instances      Box(P          R      mAP50  mAP50-95): 100% 20/20 [00:11<00:00,  1.76it/s]\n",
            "                   all        611        131      0.553      0.366      0.402      0.152\n",
            "\n",
            "      Epoch    GPU_mem   box_loss   cls_loss   dfl_loss  Instances       Size\n",
            "    117/300      4.08G       1.91      2.009      1.408          6        640:  34% 61/179 [00:27<01:01,  1.92it/s]"
          ]
        }
      ]
    },
    {
      "cell_type": "code",
      "source": [
        "!yolo task=detect \\\n",
        "mode=val \\\n",
        "model= runs/detect/train/weights/best.pt \\\n",
        "data=data.yaml\n"
      ],
      "metadata": {
        "execution": {
          "iopub.status.busy": "2024-01-18T09:33:55.966216Z",
          "iopub.execute_input": "2024-01-18T09:33:55.967065Z",
          "iopub.status.idle": "2024-01-18T09:34:17.738227Z",
          "shell.execute_reply.started": "2024-01-18T09:33:55.967019Z",
          "shell.execute_reply": "2024-01-18T09:34:17.737073Z"
        },
        "trusted": true,
        "id": "7woRe4P2hmw9",
        "outputId": "1d994516-293b-4800-ddef-17536b36b0b0",
        "colab": {
          "base_uri": "https://localhost:8080/"
        }
      },
      "execution_count": 10,
      "outputs": [
        {
          "output_type": "stream",
          "name": "stdout",
          "text": [
            "Ultralytics YOLOv8.1.1 🚀 Python-3.10.12 torch-2.1.0+cu121 CPU (Intel Xeon 2.20GHz)\n",
            "Model summary (fused): 168 layers, 11125971 parameters, 0 gradients, 28.4 GFLOPs\n",
            "Downloading https://ultralytics.com/assets/Arial.ttf to '/root/.config/Ultralytics/Arial.ttf'...\n",
            "100% 755k/755k [00:00<00:00, 16.5MB/s]\n",
            "\u001b[34m\u001b[1mval: \u001b[0mScanning /content/drive/MyDrive/Colab Notebooks/YOLO/data/eval/labels.cache... 611 images, 504 backgrounds, 0 corrupt: 100% 611/611 [00:00<?, ?it/s]\n",
            "                 Class     Images  Instances      Box(P          R      mAP50  mAP50-95): 100% 39/39 [08:07<00:00, 12.49s/it]\n",
            "                   all        611        131      0.551      0.422      0.456      0.181\n",
            "Speed: 6.3ms preprocess, 736.4ms inference, 0.0ms loss, 0.9ms postprocess per image\n",
            "Results saved to \u001b[1mruns/detect/val\u001b[0m\n",
            "💡 Learn more at https://docs.ultralytics.com/modes/val\n"
          ]
        }
      ]
    },
    {
      "cell_type": "code",
      "source": [
        "from IPython.display import display, Image"
      ],
      "metadata": {
        "id": "1nmUZCPqaECk"
      },
      "execution_count": 12,
      "outputs": []
    },
    {
      "cell_type": "code",
      "source": [
        "/content/drive/MyDrive/Colab Notebooks/YOLO/runs/detect/val/confusion_matrix_normalized.png"
      ],
      "metadata": {
        "id": "yFq1ghKHaeAh"
      },
      "execution_count": null,
      "outputs": []
    },
    {
      "cell_type": "code",
      "source": [
        "Image(filename='runs/detect/val/confusion_matrix.png', width=600)"
      ],
      "metadata": {
        "colab": {
          "base_uri": "https://localhost:8080/",
          "height": 467
        },
        "id": "VwyaVmaNZ4HP",
        "outputId": "cc9bfceb-21a5-4a38-f594-3fbfbdcde093"
      },
      "execution_count": 16,
      "outputs": [
        {
          "output_type": "execute_result",
          "data": {
            "image/png": "[encoded data removed]",
            "text/plain": [
              "<IPython.core.display.Image object>"
            ]
          },
          "metadata": {
            "image/png": {
              "width": 600
            }
          },
          "execution_count": 16
        }
      ]
    },
    {
      "cell_type": "code",
      "source": [
        "# !ls\n",
        "\n",
        "!yolo task=detect mode=predict model=/kaggle/working/runs/detect/train/weights/best.pt conf = 0.25 source = \"\"\"/kaggle/input/xray-test-images/testing images/\"\"\"\n",
        "\n",
        "\n"
      ],
      "metadata": {
        "execution": {
          "iopub.status.busy": "2024-01-18T10:00:43.792006Z",
          "iopub.execute_input": "2024-01-18T10:00:43.792838Z",
          "iopub.status.idle": "2024-01-18T10:00:51.544877Z",
          "shell.execute_reply.started": "2024-01-18T10:00:43.792803Z",
          "shell.execute_reply": "2024-01-18T10:00:51.543889Z"
        },
        "trusted": true,
        "id": "NiWQKTvvhmw-",
        "outputId": "2b2cb9b7-5e52-4cd0-cb57-b07f5b11cf7d"
      },
      "execution_count": null,
      "outputs": [
        {
          "name": "stdout",
          "text": "Ultralytics YOLOv8.1.1 🚀 Python-3.10.12 torch-2.0.0 CUDA:0 (Tesla T4, 15102MiB)\nModel summary (fused): 168 layers, 11126358 parameters, 0 gradients, 28.4 GFLOPs\n\nimage 1/5 /kaggle/input/xray-test-images/testing images/diagnostic-imaging-x-ray-knee-east-melbourne.jpg: 640x640 (no detections), 16.3ms\nimage 2/5 /kaggle/input/xray-test-images/testing images/images (1).jpeg: 640x480 1 Fractured, 83.1ms\nimage 3/5 /kaggle/input/xray-test-images/testing images/images (2).jpeg: 640x544 6 Fractureds, 82.5ms\nimage 4/5 /kaggle/input/xray-test-images/testing images/images.jpeg: 480x640 3 Fractureds, 78.2ms\nimage 5/5 /kaggle/input/xray-test-images/testing images/xray-images-showing-real-fracture-of-broken-leg-bone-under-the-knee-after-injury-2K534R6.jpg: 640x640 (no detections), 17.0ms\nSpeed: 2.2ms preprocess, 55.4ms inference, 27.2ms postprocess per image at shape (1, 3, 640, 640)\nResults saved to \u001b[1mruns/detect/predict2\u001b[0m\n💡 Learn more at https://docs.ultralytics.com/modes/predict\n",
          "output_type": "stream"
        }
      ]
    },
    {
      "cell_type": "code",
      "source": [
        "!yolo task=detect mode=predict model=/kaggle/working/runs/detect/train/weights/best.pt conf = 0.25 source = /kaggle/input/new-bone-xray-yolov8-format/new_bone_xray_dataset/test/images/\n"
      ],
      "metadata": {
        "id": "Tw7z5UHJhmw-"
      },
      "execution_count": null,
      "outputs": []
    },
    {
      "cell_type": "markdown",
      "source": [],
      "metadata": {
        "id": "jKGVoUHGa8W4"
      }
    },
    {
      "cell_type": "code",
      "source": [],
      "metadata": {
        "id": "buhCjdI5a8-x"
      },
      "execution_count": null,
      "outputs": []
    },
    {
      "cell_type": "code",
      "source": [
        "!zip -r file.zip runs/\n"
      ],
      "metadata": {
        "execution": {
          "iopub.status.busy": "2024-01-18T10:01:20.389203Z",
          "iopub.execute_input": "2024-01-18T10:01:20.389604Z",
          "iopub.status.idle": "2024-01-18T10:01:26.725689Z",
          "shell.execute_reply.started": "2024-01-18T10:01:20.389572Z",
          "shell.execute_reply": "2024-01-18T10:01:26.724555Z"
        },
        "trusted": true,
        "id": "g24QPeWLhmw-",
        "outputId": "ec18906c-bb5a-4cfb-e922-129297f0f712",
        "colab": {
          "base_uri": "https://localhost:8080/"
        }
      },
      "execution_count": 19,
      "outputs": [
        {
          "output_type": "stream",
          "name": "stdout",
          "text": [
            "  adding: runs/ (stored 0%)\n",
            "  adding: runs/detect/ (stored 0%)\n",
            "  adding: runs/detect/train/ (stored 0%)\n",
            "  adding: runs/detect/train/weights/ (stored 0%)\n",
            "  adding: runs/detect/train/weights/best.pt (deflated 7%)\n",
            "  adding: runs/detect/train/weights/last.pt (deflated 7%)\n",
            "  adding: runs/detect/train/args.yaml (deflated 53%)\n",
            "  adding: runs/detect/train/events.out.tfevents.1705880118.c0a29e913284.5808.0 (deflated 89%)\n",
            "  adding: runs/detect/train/labels_correlogram.jpg (deflated 38%)\n",
            "  adding: runs/detect/train/labels.jpg (deflated 32%)\n",
            "  adding: runs/detect/train/train_batch0.jpg (deflated 14%)\n",
            "  adding: runs/detect/train/train_batch1.jpg (deflated 13%)\n",
            "  adding: runs/detect/train/train_batch2.jpg (deflated 16%)\n",
            "  adding: runs/detect/train/results.csv (deflated 86%)\n",
            "  adding: runs/detect/val/ (stored 0%)\n",
            "  adding: runs/detect/val/val_batch0_pred.jpg (deflated 19%)\n",
            "  adding: runs/detect/val/val_batch0_labels.jpg (deflated 20%)\n",
            "  adding: runs/detect/val/val_batch1_pred.jpg (deflated 19%)\n",
            "  adding: runs/detect/val/val_batch1_labels.jpg (deflated 19%)\n",
            "  adding: runs/detect/val/val_batch2_labels.jpg (deflated 19%)\n",
            "  adding: runs/detect/val/val_batch2_pred.jpg (deflated 19%)\n",
            "  adding: runs/detect/val/PR_curve.png (deflated 21%)\n",
            "  adding: runs/detect/val/F1_curve.png (deflated 18%)\n",
            "  adding: runs/detect/val/P_curve.png (deflated 16%)\n",
            "  adding: runs/detect/val/R_curve.png (deflated 17%)\n",
            "  adding: runs/detect/val/confusion_matrix_normalized.png (deflated 37%)\n",
            "  adding: runs/detect/val/confusion_matrix.png (deflated 39%)\n"
          ]
        }
      ]
    },
    {
      "cell_type": "code",
      "source": [
        "from IPython.display import FileLink\n",
        "FileLink(r'file.zip')\n"
      ],
      "metadata": {
        "execution": {
          "iopub.status.busy": "2024-01-18T10:01:40.001573Z",
          "iopub.execute_input": "2024-01-18T10:01:40.001943Z",
          "iopub.status.idle": "2024-01-18T10:01:40.009470Z",
          "shell.execute_reply.started": "2024-01-18T10:01:40.001914Z",
          "shell.execute_reply": "2024-01-18T10:01:40.008601Z"
        },
        "trusted": true,
        "id": "Gs__066Rhmw_",
        "outputId": "6c767300-ce28-40eb-8d60-cf9eb3233ce0",
        "colab": {
          "base_uri": "https://localhost:8080/",
          "height": 34
        }
      },
      "execution_count": 20,
      "outputs": [
        {
          "output_type": "execute_result",
          "data": {
            "text/plain": [
              "/content/drive/MyDrive/Colab Notebooks/YOLO/file.zip"
            ],
            "text/html": [
              "<a href='file.zip' target='_blank'>file.zip</a><br>"
            ]
          },
          "metadata": {},
          "execution_count": 20
        }
      ]
    },
    {
      "cell_type": "code",
      "source": [],
      "metadata": {
        "id": "JqbSkvA8hmw_"
      },
      "execution_count": null,
      "outputs": []
    },
    {
      "cell_type": "code",
      "source": [],
      "metadata": {
        "id": "8EGAub1Chmw_"
      },
      "execution_count": null,
      "outputs": []
    }
  ]
}